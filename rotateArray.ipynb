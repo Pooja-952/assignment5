{
 "cells": [
  {
   "cell_type": "markdown",
   "id": "8bc1eff5-cfc9-4620-b3b7-8f0f7d6d6916",
   "metadata": {},
   "source": [
    "## Q7. Suppose an array of length n sorted in ascending order is **rotated** between 1 and n times. For example, the array nums = [0,1,2,4,5,6,7] might become:\n",
    "- [4,5,6,7,0,1,2] if it was rotated 4 times.\n",
    "- [0,1,2,4,5,6,7] if it was rotated 7 times.\n",
    "Notice that **rotating** an array [a[0], a[1], a[2], ..., a[n-1]] 1 time results in the array [a[n-1], a[0], a[1], a[2], ..., a[n-2]].\n",
    "Given the sorted rotated array nums of **unique** elements, return *the minimum element of this array*.\n",
    "You must write an algorithm that runs in O(log n) time."
   ]
  },
  {
   "cell_type": "code",
   "execution_count": 25,
   "id": "7cdc8726-c2af-40f3-b0e0-8a2dabb8b143",
   "metadata": {},
   "outputs": [],
   "source": [
    "def findMin(nums):\n",
    "    left, right = 0, len(nums) -1\n",
    "    \n",
    "    while left < right:\n",
    "        mid = (left + right) // 2\n",
    "    \n",
    "        if nums[mid] > nums[right]:\n",
    "            left = mid + 1\n",
    "        else:\n",
    "            right = mid\n",
    "    \n",
    "    return nums[left]"
   ]
  },
  {
   "cell_type": "code",
   "execution_count": 26,
   "id": "58f8e2b5-a666-424e-8fea-9afefd43e424",
   "metadata": {},
   "outputs": [
    {
     "name": "stdout",
     "output_type": "stream",
     "text": [
      "1\n"
     ]
    }
   ],
   "source": [
    "nums = [3,4,5,1,2]\n",
    "min_element = findMin(nums)\n",
    "print(min_element)"
   ]
  },
  {
   "cell_type": "code",
   "execution_count": null,
   "id": "38df8e31-73c8-49a5-a5fe-03561b8d10de",
   "metadata": {},
   "outputs": [],
   "source": []
  }
 ],
 "metadata": {
  "kernelspec": {
   "display_name": "Python 3 (ipykernel)",
   "language": "python",
   "name": "python3"
  },
  "language_info": {
   "codemirror_mode": {
    "name": "ipython",
    "version": 3
   },
   "file_extension": ".py",
   "mimetype": "text/x-python",
   "name": "python",
   "nbconvert_exporter": "python",
   "pygments_lexer": "ipython3",
   "version": "3.10.6"
  }
 },
 "nbformat": 4,
 "nbformat_minor": 5
}
