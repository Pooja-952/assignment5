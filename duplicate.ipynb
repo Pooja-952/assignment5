{
 "cells": [
  {
   "cell_type": "markdown",
   "id": "b22496fe-a9d1-48a0-8414-623fd197a8f1",
   "metadata": {},
   "source": [
    "## Q6. Given an integer array nums of length n where all the integers of nums are in the range [1, n] and each integer appears **once** or **twice**, return *an array of all the integers that appears **twice***. You must write an algorithm that runs in O(n) time and uses only constant extra space."
   ]
  },
  {
   "cell_type": "code",
   "execution_count": 2,
   "id": "5b7bf024-bb2b-420e-b07b-3c2689ff0d51",
   "metadata": {},
   "outputs": [],
   "source": [
    "def duplicateNumber(nums):\n",
    "    n = len(nums)\n",
    "    result= []\n",
    "    i =1\n",
    "    for num in nums:\n",
    "        index = abs(num)\n",
    "        if nums[index - 1] < 0:\n",
    "            result.append(index)\n",
    "        else:\n",
    "            nums[index - 1] *= -1\n",
    "    return result        \n",
    "        \n",
    "        "
   ]
  },
  {
   "cell_type": "code",
   "execution_count": 3,
   "id": "091f2201-1cfa-49bc-bccc-158ea2f1f5f7",
   "metadata": {},
   "outputs": [
    {
     "name": "stdout",
     "output_type": "stream",
     "text": [
      "[2, 3]\n"
     ]
    }
   ],
   "source": [
    "nums = [4,3,2,7,8,2,3,1]\n",
    "twice_number = duplicateNumber(nums)\n",
    "print(twice_number)"
   ]
  },
  {
   "cell_type": "code",
   "execution_count": null,
   "id": "00f9cb38-2038-4df1-81aa-2ab42d32cad7",
   "metadata": {},
   "outputs": [],
   "source": []
  }
 ],
 "metadata": {
  "kernelspec": {
   "display_name": "Python 3 (ipykernel)",
   "language": "python",
   "name": "python3"
  },
  "language_info": {
   "codemirror_mode": {
    "name": "ipython",
    "version": 3
   },
   "file_extension": ".py",
   "mimetype": "text/x-python",
   "name": "python",
   "nbconvert_exporter": "python",
   "pygments_lexer": "ipython3",
   "version": "3.10.6"
  }
 },
 "nbformat": 4,
 "nbformat_minor": 5
}
