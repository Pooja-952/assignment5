{
 "cells": [
  {
   "cell_type": "markdown",
   "id": "73e51851-8dac-42a2-b991-3444e65af6e9",
   "metadata": {},
   "source": [
    "## Q2. You have n coins and you want to build a staircase with these coins. The staircase consists of k rows where the ith row has exactly i coins. The last row of the staircase **may be** incomplete.\n",
    "Given the integer n, return *the number of **complete rows** of the staircase you will build*."
   ]
  },
  {
   "cell_type": "code",
   "execution_count": 1,
   "id": "b795ed8f-73ae-4231-8cd8-80e578f9c04c",
   "metadata": {},
   "outputs": [],
   "source": [
    "def countCoins(n):\n",
    "    complete_row = 0\n",
    "    total_coins = 0\n",
    "    i = 1\n",
    "    \n",
    "    while total_coins <= n:\n",
    "        complete_row += 1\n",
    "        total_coins += i\n",
    "        i += 1\n",
    "    return complete_row - 1    \n",
    "    "
   ]
  },
  {
   "cell_type": "code",
   "execution_count": 2,
   "id": "4d5faa05-0019-4ab4-b300-2f1da0200db0",
   "metadata": {},
   "outputs": [
    {
     "name": "stdout",
     "output_type": "stream",
     "text": [
      "2\n"
     ]
    }
   ],
   "source": [
    "n = 5\n",
    "final_complete_rows = countCoins(n)\n",
    "print(final_complete_rows)"
   ]
  },
  {
   "cell_type": "code",
   "execution_count": null,
   "id": "97cef249-a3ae-4e1b-8ce3-cc1c6faf1b6b",
   "metadata": {},
   "outputs": [],
   "source": []
  }
 ],
 "metadata": {
  "kernelspec": {
   "display_name": "Python 3 (ipykernel)",
   "language": "python",
   "name": "python3"
  },
  "language_info": {
   "codemirror_mode": {
    "name": "ipython",
    "version": 3
   },
   "file_extension": ".py",
   "mimetype": "text/x-python",
   "name": "python",
   "nbconvert_exporter": "python",
   "pygments_lexer": "ipython3",
   "version": "3.10.6"
  }
 },
 "nbformat": 4,
 "nbformat_minor": 5
}
