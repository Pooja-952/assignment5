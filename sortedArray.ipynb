{
 "cells": [
  {
   "cell_type": "markdown",
   "id": "d5f4f023-fab9-43b0-a682-27ec441b0d58",
   "metadata": {},
   "source": [
    "## Q3. Given an integer array nums sorted in non-decreasing order, return an array of the squares of each number sorted in non-decreasing order."
   ]
  },
  {
   "cell_type": "code",
   "execution_count": 3,
   "id": "eac5a0f4-d4cb-46ac-b12d-f30d8ede8e58",
   "metadata": {},
   "outputs": [],
   "source": [
    "def sortedArray(nums):\n",
    "    n = len(nums)\n",
    "    result = [0] * n\n",
    "    left = 0\n",
    "    right = n - 1\n",
    "    for i in range(n - 1, -1, -1):\n",
    "        if abs(nums[left]) > abs(nums[right]):\n",
    "            result[i] = nums[left] ** 2\n",
    "            left += 1\n",
    "        else:\n",
    "            result[i] = nums[right] ** 2\n",
    "            right -= 1\n",
    "            \n",
    "    return result        "
   ]
  },
  {
   "cell_type": "code",
   "execution_count": 4,
   "id": "17eb39bb-940b-407c-9496-1f4ff9651917",
   "metadata": {},
   "outputs": [
    {
     "name": "stdout",
     "output_type": "stream",
     "text": [
      "[0, 1, 9, 16, 100]\n"
     ]
    }
   ],
   "source": [
    "nums = [-4,-1,0,3,10]\n",
    "squared_number = sortedArray(nums)\n",
    "print(squared_number)"
   ]
  },
  {
   "cell_type": "code",
   "execution_count": null,
   "id": "60d2d9cc-09f1-4fc1-b5ed-97e5de997c85",
   "metadata": {},
   "outputs": [],
   "source": []
  }
 ],
 "metadata": {
  "kernelspec": {
   "display_name": "Python 3 (ipykernel)",
   "language": "python",
   "name": "python3"
  },
  "language_info": {
   "codemirror_mode": {
    "name": "ipython",
    "version": 3
   },
   "file_extension": ".py",
   "mimetype": "text/x-python",
   "name": "python",
   "nbconvert_exporter": "python",
   "pygments_lexer": "ipython3",
   "version": "3.10.6"
  }
 },
 "nbformat": 4,
 "nbformat_minor": 5
}
